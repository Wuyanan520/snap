{
 "cells": [
  {
   "cell_type": "code",
   "execution_count": 1,
   "metadata": {
    "collapsed": true
   },
   "outputs": [],
   "source": [
    "%matplotlib inline\n",
    "import pandas as pd\n",
    "import matplotlib.pyplot as plt\n",
    "import networkx as nx\n",
    "import numpy as np\n",
    "import os"
   ]
  },
  {
   "cell_type": "code",
   "execution_count": 2,
   "metadata": {
    "collapsed": false
   },
   "outputs": [],
   "source": [
    "def createM(filename):\n",
    "    data = pd.read_csv(filename,header=None,sep=' ')\n",
    "    data.columns = ['n1', 'n2', 'timestamp']\n",
    "    M = nx.from_pandas_dataframe(data,'n1','n2',edge_attr='timestamp', create_using=nx.MultiGraph())\n",
    "    return M"
   ]
  },
  {
   "cell_type": "code",
   "execution_count": 3,
   "metadata": {
    "collapsed": false
   },
   "outputs": [],
   "source": [
    "# create weighted graph from Multigraph\n",
    "def Mg2Wg(M):\n",
    "    G = nx.Graph()\n",
    "    for u,v,data in M.edges_iter(data=True):\n",
    "        if G.has_edge(u,v):\n",
    "            G[u][v]['weight'] += 1\n",
    "        else:\n",
    "            G.add_edge(u, v, weight=1)\n",
    "    return G\n"
   ]
  },
  {
   "cell_type": "code",
   "execution_count": 4,
   "metadata": {
    "collapsed": false
   },
   "outputs": [],
   "source": [
    "# 获取文件夹内所有文件名  \n",
    "def file_name(file_dir):   \n",
    "    L=[]   \n",
    "    for root, dirs, files in os.walk(file_dir):\n",
    "        for file in files: \n",
    "            if file.startswith('2013'): \n",
    "                L.append(file) \n",
    "    return L"
   ]
  },
  {
   "cell_type": "code",
   "execution_count": 13,
   "metadata": {
    "collapsed": true
   },
   "outputs": [],
   "source": [
    "df_cluster = pd.DataFrame()\n",
    "df_meandegree = pd.DataFrame()\n",
    "df_assort = pd.DataFrame()\n",
    "files = file_name('./data')"
   ]
  },
  {
   "cell_type": "code",
   "execution_count": 14,
   "metadata": {
    "collapsed": false
   },
   "outputs": [],
   "source": [
    "for filename in files:\n",
    "    date,model = filename.split('_',1)\n",
    "    model = model.split('.')[0]\n",
    "\n",
    "    M = createM('./data/' + filename)\n",
    "    G = Mg2Wg(M)\n",
    "\n",
    "    # 聚类系数\n",
    "    df_cluster.loc[date,model] = nx.average_clustering(G)\n",
    "    \n",
    "    # 平均度\n",
    "    df_meandegree.loc[date,model] = np.mean(nx.degree(G).values())\n",
    "\n",
    "    # 匹配系数\n",
    "    df_assort.loc[date,model] = nx.degree_assortativity_coefficient(G)"
   ]
  },
  {
   "cell_type": "code",
   "execution_count": 18,
   "metadata": {
    "collapsed": false
   },
   "outputs": [
    {
     "data": {
      "text/html": [
       "<div>\n",
       "<table border=\"1\" class=\"dataframe\">\n",
       "  <thead>\n",
       "    <tr style=\"text-align: right;\">\n",
       "      <th></th>\n",
       "      <th>origin</th>\n",
       "      <th>0k</th>\n",
       "      <th>1k</th>\n",
       "      <th>time_swap</th>\n",
       "      <th>time_randomcreat</th>\n",
       "      <th>timeweight_swap</th>\n",
       "      <th>sametimeweight_swap</th>\n",
       "      <th>time_randomswap</th>\n",
       "      <th>SameMode_day</th>\n",
       "      <th>SameMode_week</th>\n",
       "      <th>SameMode_month</th>\n",
       "      <th>time_reverse</th>\n",
       "    </tr>\n",
       "  </thead>\n",
       "  <tbody>\n",
       "    <tr>\n",
       "      <th>20131203</th>\n",
       "      <td>0.418355</td>\n",
       "      <td>0.064754</td>\n",
       "      <td>0.073023</td>\n",
       "      <td>0.418355</td>\n",
       "      <td>0.418355</td>\n",
       "      <td>0.418355</td>\n",
       "      <td>0.418355</td>\n",
       "      <td>0.418355</td>\n",
       "      <td>0.418355</td>\n",
       "      <td>0.418355</td>\n",
       "      <td>0.418355</td>\n",
       "      <td>0.418355</td>\n",
       "    </tr>\n",
       "    <tr>\n",
       "      <th>20131204</th>\n",
       "      <td>0.430972</td>\n",
       "      <td>0.057857</td>\n",
       "      <td>0.061901</td>\n",
       "      <td>0.430972</td>\n",
       "      <td>0.430972</td>\n",
       "      <td>0.430972</td>\n",
       "      <td>0.430972</td>\n",
       "      <td>0.430972</td>\n",
       "      <td>0.430972</td>\n",
       "      <td>0.430972</td>\n",
       "      <td>0.430972</td>\n",
       "      <td>0.430972</td>\n",
       "    </tr>\n",
       "    <tr>\n",
       "      <th>20131205</th>\n",
       "      <td>0.384657</td>\n",
       "      <td>0.062884</td>\n",
       "      <td>0.075692</td>\n",
       "      <td>0.384657</td>\n",
       "      <td>0.384657</td>\n",
       "      <td>0.384657</td>\n",
       "      <td>0.384657</td>\n",
       "      <td>0.384657</td>\n",
       "      <td>0.384657</td>\n",
       "      <td>0.384657</td>\n",
       "      <td>0.384657</td>\n",
       "      <td>0.384657</td>\n",
       "    </tr>\n",
       "    <tr>\n",
       "      <th>20131206</th>\n",
       "      <td>0.434125</td>\n",
       "      <td>0.062987</td>\n",
       "      <td>0.067295</td>\n",
       "      <td>0.434125</td>\n",
       "      <td>0.434125</td>\n",
       "      <td>0.434125</td>\n",
       "      <td>0.434125</td>\n",
       "      <td>0.434125</td>\n",
       "      <td>0.434125</td>\n",
       "      <td>0.434125</td>\n",
       "      <td>0.434125</td>\n",
       "      <td>0.434125</td>\n",
       "    </tr>\n",
       "    <tr>\n",
       "      <th>20131202</th>\n",
       "      <td>0.401081</td>\n",
       "      <td>0.053101</td>\n",
       "      <td>0.066162</td>\n",
       "      <td>0.401081</td>\n",
       "      <td>0.401081</td>\n",
       "      <td>0.401081</td>\n",
       "      <td>0.401081</td>\n",
       "      <td>0.401081</td>\n",
       "      <td>0.401081</td>\n",
       "      <td>0.401081</td>\n",
       "      <td>0.401081</td>\n",
       "      <td>0.401081</td>\n",
       "    </tr>\n",
       "  </tbody>\n",
       "</table>\n",
       "</div>"
      ],
      "text/plain": [
       "            origin        0k        1k  time_swap  time_randomcreat  \\\n",
       "20131203  0.418355  0.064754  0.073023   0.418355          0.418355   \n",
       "20131204  0.430972  0.057857  0.061901   0.430972          0.430972   \n",
       "20131205  0.384657  0.062884  0.075692   0.384657          0.384657   \n",
       "20131206  0.434125  0.062987  0.067295   0.434125          0.434125   \n",
       "20131202  0.401081  0.053101  0.066162   0.401081          0.401081   \n",
       "\n",
       "          timeweight_swap  sametimeweight_swap  time_randomswap  SameMode_day  \\\n",
       "20131203         0.418355             0.418355         0.418355      0.418355   \n",
       "20131204         0.430972             0.430972         0.430972      0.430972   \n",
       "20131205         0.384657             0.384657         0.384657      0.384657   \n",
       "20131206         0.434125             0.434125         0.434125      0.434125   \n",
       "20131202         0.401081             0.401081         0.401081      0.401081   \n",
       "\n",
       "          SameMode_week  SameMode_month  time_reverse  \n",
       "20131203       0.418355        0.418355      0.418355  \n",
       "20131204       0.430972        0.430972      0.430972  \n",
       "20131205       0.384657        0.384657      0.384657  \n",
       "20131206       0.434125        0.434125      0.434125  \n",
       "20131202       0.401081        0.401081      0.401081  "
      ]
     },
     "execution_count": 18,
     "metadata": {},
     "output_type": "execute_result"
    }
   ],
   "source": [
    "df_cluster"
   ]
  },
  {
   "cell_type": "code",
   "execution_count": 15,
   "metadata": {
    "collapsed": false
   },
   "outputs": [
    {
     "data": {
      "text/plain": [
       "<matplotlib.text.Text at 0x7f6b70ad4b10>"
      ]
     },
     "execution_count": 15,
     "metadata": {},
     "output_type": "execute_result"
    },
    {
     "data": {
      "image/png": "[encoded data removed]",
      "text/plain": [
       "<matplotlib.figure.Figure at 0x7f6b6f81dd10>"
      ]
     },
     "metadata": {},
     "output_type": "display_data"
    }
   ],
   "source": [
    "df_cluster.mean().plot(kind='bar',rot=90)\n",
    "plt.title('average_clustering of different nullmodel_meandays')"
   ]
  },
  {
   "cell_type": "code",
   "execution_count": 19,
   "metadata": {
    "collapsed": false
   },
   "outputs": [
    {
     "data": {
      "text/html": [
       "<div>\n",
       "<table border=\"1\" class=\"dataframe\">\n",
       "  <thead>\n",
       "    <tr style=\"text-align: right;\">\n",
       "      <th></th>\n",
       "      <th>origin</th>\n",
       "      <th>0k</th>\n",
       "      <th>1k</th>\n",
       "      <th>time_swap</th>\n",
       "      <th>time_randomcreat</th>\n",
       "      <th>timeweight_swap</th>\n",
       "      <th>sametimeweight_swap</th>\n",
       "      <th>time_randomswap</th>\n",
       "      <th>SameMode_day</th>\n",
       "      <th>SameMode_week</th>\n",
       "      <th>SameMode_month</th>\n",
       "      <th>time_reverse</th>\n",
       "    </tr>\n",
       "  </thead>\n",
       "  <tbody>\n",
       "    <tr>\n",
       "      <th>20131203</th>\n",
       "      <td>16.600000</td>\n",
       "      <td>16.600000</td>\n",
       "      <td>16.600000</td>\n",
       "      <td>16.600000</td>\n",
       "      <td>16.600000</td>\n",
       "      <td>16.600000</td>\n",
       "      <td>16.600000</td>\n",
       "      <td>16.600000</td>\n",
       "      <td>16.600000</td>\n",
       "      <td>16.600000</td>\n",
       "      <td>16.600000</td>\n",
       "      <td>16.600000</td>\n",
       "    </tr>\n",
       "    <tr>\n",
       "      <th>20131204</th>\n",
       "      <td>14.264026</td>\n",
       "      <td>14.264026</td>\n",
       "      <td>14.264026</td>\n",
       "      <td>14.264026</td>\n",
       "      <td>14.264026</td>\n",
       "      <td>14.264026</td>\n",
       "      <td>14.264026</td>\n",
       "      <td>14.264026</td>\n",
       "      <td>14.264026</td>\n",
       "      <td>14.264026</td>\n",
       "      <td>14.264026</td>\n",
       "      <td>14.264026</td>\n",
       "    </tr>\n",
       "    <tr>\n",
       "      <th>20131205</th>\n",
       "      <td>14.657627</td>\n",
       "      <td>14.657627</td>\n",
       "      <td>14.657627</td>\n",
       "      <td>14.657627</td>\n",
       "      <td>14.657627</td>\n",
       "      <td>14.657627</td>\n",
       "      <td>14.657627</td>\n",
       "      <td>14.657627</td>\n",
       "      <td>14.657627</td>\n",
       "      <td>14.657627</td>\n",
       "      <td>14.657627</td>\n",
       "      <td>14.657627</td>\n",
       "    </tr>\n",
       "    <tr>\n",
       "      <th>20131206</th>\n",
       "      <td>13.879599</td>\n",
       "      <td>13.926174</td>\n",
       "      <td>13.879599</td>\n",
       "      <td>13.879599</td>\n",
       "      <td>13.879599</td>\n",
       "      <td>13.879599</td>\n",
       "      <td>13.879599</td>\n",
       "      <td>13.879599</td>\n",
       "      <td>13.879599</td>\n",
       "      <td>13.879599</td>\n",
       "      <td>13.879599</td>\n",
       "      <td>13.879599</td>\n",
       "    </tr>\n",
       "    <tr>\n",
       "      <th>20131202</th>\n",
       "      <td>14.371795</td>\n",
       "      <td>14.371795</td>\n",
       "      <td>14.371795</td>\n",
       "      <td>14.371795</td>\n",
       "      <td>14.371795</td>\n",
       "      <td>14.371795</td>\n",
       "      <td>14.371795</td>\n",
       "      <td>14.371795</td>\n",
       "      <td>14.371795</td>\n",
       "      <td>14.371795</td>\n",
       "      <td>14.371795</td>\n",
       "      <td>14.371795</td>\n",
       "    </tr>\n",
       "  </tbody>\n",
       "</table>\n",
       "</div>"
      ],
      "text/plain": [
       "             origin         0k         1k  time_swap  time_randomcreat  \\\n",
       "20131203  16.600000  16.600000  16.600000  16.600000         16.600000   \n",
       "20131204  14.264026  14.264026  14.264026  14.264026         14.264026   \n",
       "20131205  14.657627  14.657627  14.657627  14.657627         14.657627   \n",
       "20131206  13.879599  13.926174  13.879599  13.879599         13.879599   \n",
       "20131202  14.371795  14.371795  14.371795  14.371795         14.371795   \n",
       "\n",
       "          timeweight_swap  sametimeweight_swap  time_randomswap  SameMode_day  \\\n",
       "20131203        16.600000            16.600000        16.600000     16.600000   \n",
       "20131204        14.264026            14.264026        14.264026     14.264026   \n",
       "20131205        14.657627            14.657627        14.657627     14.657627   \n",
       "20131206        13.879599            13.879599        13.879599     13.879599   \n",
       "20131202        14.371795            14.371795        14.371795     14.371795   \n",
       "\n",
       "          SameMode_week  SameMode_month  time_reverse  \n",
       "20131203      16.600000       16.600000     16.600000  \n",
       "20131204      14.264026       14.264026     14.264026  \n",
       "20131205      14.657627       14.657627     14.657627  \n",
       "20131206      13.879599       13.879599     13.879599  \n",
       "20131202      14.371795       14.371795     14.371795  "
      ]
     },
     "execution_count": 19,
     "metadata": {},
     "output_type": "execute_result"
    }
   ],
   "source": [
    "df_meandegree"
   ]
  },
  {
   "cell_type": "code",
   "execution_count": 16,
   "metadata": {
    "collapsed": false
   },
   "outputs": [
    {
     "data": {
      "text/plain": [
       "<matplotlib.text.Text at 0x7f6b70d26ed0>"
      ]
     },
     "execution_count": 16,
     "metadata": {},
     "output_type": "execute_result"
    },
    {
     "data": {
      "image/png": "[encoded data removed]",
      "text/plain": [
       "<matplotlib.figure.Figure at 0x7f6b6fd57650>"
      ]
     },
     "metadata": {},
     "output_type": "display_data"
    }
   ],
   "source": [
    "df_meandegree.mean().plot(kind='bar',rot=90)\n",
    "plt.title('meandegree of different nullmodel_meandays')"
   ]
  },
  {
   "cell_type": "code",
   "execution_count": 20,
   "metadata": {
    "collapsed": false
   },
   "outputs": [
    {
     "data": {
      "text/html": [
       "<div>\n",
       "<table border=\"1\" class=\"dataframe\">\n",
       "  <thead>\n",
       "    <tr style=\"text-align: right;\">\n",
       "      <th></th>\n",
       "      <th>origin</th>\n",
       "      <th>0k</th>\n",
       "      <th>1k</th>\n",
       "      <th>time_swap</th>\n",
       "      <th>time_randomcreat</th>\n",
       "      <th>timeweight_swap</th>\n",
       "      <th>sametimeweight_swap</th>\n",
       "      <th>time_randomswap</th>\n",
       "      <th>SameMode_day</th>\n",
       "      <th>SameMode_week</th>\n",
       "      <th>SameMode_month</th>\n",
       "      <th>time_reverse</th>\n",
       "    </tr>\n",
       "  </thead>\n",
       "  <tbody>\n",
       "    <tr>\n",
       "      <th>20131203</th>\n",
       "      <td>0.119599</td>\n",
       "      <td>0.009629</td>\n",
       "      <td>0.012083</td>\n",
       "      <td>0.119599</td>\n",
       "      <td>0.119599</td>\n",
       "      <td>0.119599</td>\n",
       "      <td>0.119599</td>\n",
       "      <td>0.119599</td>\n",
       "      <td>0.119599</td>\n",
       "      <td>0.119599</td>\n",
       "      <td>0.119599</td>\n",
       "      <td>0.119599</td>\n",
       "    </tr>\n",
       "    <tr>\n",
       "      <th>20131204</th>\n",
       "      <td>0.082220</td>\n",
       "      <td>0.013808</td>\n",
       "      <td>-0.064561</td>\n",
       "      <td>0.082220</td>\n",
       "      <td>0.082220</td>\n",
       "      <td>0.082220</td>\n",
       "      <td>0.082220</td>\n",
       "      <td>0.082220</td>\n",
       "      <td>0.082220</td>\n",
       "      <td>0.082220</td>\n",
       "      <td>0.082220</td>\n",
       "      <td>0.082220</td>\n",
       "    </tr>\n",
       "    <tr>\n",
       "      <th>20131205</th>\n",
       "      <td>0.075117</td>\n",
       "      <td>0.020164</td>\n",
       "      <td>0.007381</td>\n",
       "      <td>0.075117</td>\n",
       "      <td>0.075117</td>\n",
       "      <td>0.075117</td>\n",
       "      <td>0.075117</td>\n",
       "      <td>0.075117</td>\n",
       "      <td>0.075117</td>\n",
       "      <td>0.075117</td>\n",
       "      <td>0.075117</td>\n",
       "      <td>0.075117</td>\n",
       "    </tr>\n",
       "    <tr>\n",
       "      <th>20131206</th>\n",
       "      <td>0.193378</td>\n",
       "      <td>0.078745</td>\n",
       "      <td>0.000608</td>\n",
       "      <td>0.193378</td>\n",
       "      <td>0.193378</td>\n",
       "      <td>0.193378</td>\n",
       "      <td>0.193378</td>\n",
       "      <td>0.193378</td>\n",
       "      <td>0.193378</td>\n",
       "      <td>0.193378</td>\n",
       "      <td>0.193378</td>\n",
       "      <td>0.193378</td>\n",
       "    </tr>\n",
       "    <tr>\n",
       "      <th>20131202</th>\n",
       "      <td>0.091914</td>\n",
       "      <td>0.025641</td>\n",
       "      <td>-0.030096</td>\n",
       "      <td>0.091914</td>\n",
       "      <td>0.091914</td>\n",
       "      <td>0.091914</td>\n",
       "      <td>0.091914</td>\n",
       "      <td>0.091914</td>\n",
       "      <td>0.091914</td>\n",
       "      <td>0.091914</td>\n",
       "      <td>0.091914</td>\n",
       "      <td>0.091914</td>\n",
       "    </tr>\n",
       "  </tbody>\n",
       "</table>\n",
       "</div>"
      ],
      "text/plain": [
       "            origin        0k        1k  time_swap  time_randomcreat  \\\n",
       "20131203  0.119599  0.009629  0.012083   0.119599          0.119599   \n",
       "20131204  0.082220  0.013808 -0.064561   0.082220          0.082220   \n",
       "20131205  0.075117  0.020164  0.007381   0.075117          0.075117   \n",
       "20131206  0.193378  0.078745  0.000608   0.193378          0.193378   \n",
       "20131202  0.091914  0.025641 -0.030096   0.091914          0.091914   \n",
       "\n",
       "          timeweight_swap  sametimeweight_swap  time_randomswap  SameMode_day  \\\n",
       "20131203         0.119599             0.119599         0.119599      0.119599   \n",
       "20131204         0.082220             0.082220         0.082220      0.082220   \n",
       "20131205         0.075117             0.075117         0.075117      0.075117   \n",
       "20131206         0.193378             0.193378         0.193378      0.193378   \n",
       "20131202         0.091914             0.091914         0.091914      0.091914   \n",
       "\n",
       "          SameMode_week  SameMode_month  time_reverse  \n",
       "20131203       0.119599        0.119599      0.119599  \n",
       "20131204       0.082220        0.082220      0.082220  \n",
       "20131205       0.075117        0.075117      0.075117  \n",
       "20131206       0.193378        0.193378      0.193378  \n",
       "20131202       0.091914        0.091914      0.091914  "
      ]
     },
     "execution_count": 20,
     "metadata": {},
     "output_type": "execute_result"
    }
   ],
   "source": [
    "df_assort"
   ]
  },
  {
   "cell_type": "code",
   "execution_count": 17,
   "metadata": {
    "collapsed": false
   },
   "outputs": [
    {
     "data": {
      "text/plain": [
       "<matplotlib.text.Text at 0x7f6b6ebf6910>"
      ]
     },
     "execution_count": 17,
     "metadata": {},
     "output_type": "execute_result"
    },
    {
     "data": {
      "image/png": "[encoded data removed]",
      "text/plain": [
       "<matplotlib.figure.Figure at 0x7f6b70817710>"
      ]
     },
     "metadata": {},
     "output_type": "display_data"
    }
   ],
   "source": [
    "df_assort.mean().plot(kind='bar',rot=90)\n",
    "plt.title('degree_assortativity_coefficient of different nullmodel_meandays')"
   ]
  }
 ],
 "metadata": {
  "kernelspec": {
   "display_name": "Python 2",
   "language": "python",
   "name": "python2"
  },
  "language_info": {
   "codemirror_mode": {
    "name": "ipython",
    "version": 2
   },
   "file_extension": ".py",
   "mimetype": "text/x-python",
   "name": "python",
   "nbconvert_exporter": "python",
   "pygments_lexer": "ipython2",
   "version": "2.7.13"
  }
 },
 "nbformat": 4,
 "nbformat_minor": 2
}
