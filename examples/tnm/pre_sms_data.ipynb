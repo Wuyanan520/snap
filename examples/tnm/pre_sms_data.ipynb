{
 "cells": [
  {
   "cell_type": "code",
   "execution_count": 10,
   "metadata": {
    "collapsed": true
   },
   "outputs": [],
   "source": [
    "import pandas as pd\n",
    "import time\n",
    "import re"
   ]
  },
  {
   "cell_type": "code",
   "execution_count": 2,
   "metadata": {
    "collapsed": false
   },
   "outputs": [
    {
     "data": {
      "text/html": [
       "<div>\n",
       "<table border=\"1\" class=\"dataframe\">\n",
       "  <thead>\n",
       "    <tr style=\"text-align: right;\">\n",
       "      <th></th>\n",
       "      <th>0</th>\n",
       "      <th>1</th>\n",
       "      <th>2</th>\n",
       "      <th>3</th>\n",
       "      <th>4</th>\n",
       "      <th>5</th>\n",
       "    </tr>\n",
       "  </thead>\n",
       "  <tbody>\n",
       "    <tr>\n",
       "      <th>0</th>\n",
       "      <td>20120201</td>\n",
       "      <td>559008</td>\n",
       "      <td>y25562542202</td>\n",
       "      <td>1</td>\n",
       "      <td>2</td>\n",
       "      <td>00:09:20</td>\n",
       "    </tr>\n",
       "    <tr>\n",
       "      <th>1</th>\n",
       "      <td>20120201</td>\n",
       "      <td>559008</td>\n",
       "      <td>y25562542202</td>\n",
       "      <td>1</td>\n",
       "      <td>2</td>\n",
       "      <td>00:26:33</td>\n",
       "    </tr>\n",
       "    <tr>\n",
       "      <th>2</th>\n",
       "      <td>20120201</td>\n",
       "      <td>559008</td>\n",
       "      <td>y25562542202</td>\n",
       "      <td>1</td>\n",
       "      <td>2</td>\n",
       "      <td>00:24:30</td>\n",
       "    </tr>\n",
       "    <tr>\n",
       "      <th>3</th>\n",
       "      <td>20120201</td>\n",
       "      <td>875512</td>\n",
       "      <td>1196004</td>\n",
       "      <td>1</td>\n",
       "      <td>1</td>\n",
       "      <td>00:02:35</td>\n",
       "    </tr>\n",
       "    <tr>\n",
       "      <th>4</th>\n",
       "      <td>20120201</td>\n",
       "      <td>559008</td>\n",
       "      <td>y25562542202</td>\n",
       "      <td>1</td>\n",
       "      <td>2</td>\n",
       "      <td>00:13:35</td>\n",
       "    </tr>\n",
       "  </tbody>\n",
       "</table>\n",
       "</div>"
      ],
      "text/plain": [
       "          0       1             2  3  4         5\n",
       "0  20120201  559008  y25562542202  1  2  00:09:20\n",
       "1  20120201  559008  y25562542202  1  2  00:26:33\n",
       "2  20120201  559008  y25562542202  1  2  00:24:30\n",
       "3  20120201  875512       1196004  1  1  00:02:35\n",
       "4  20120201  559008  y25562542202  1  2  00:13:35"
      ]
     },
     "execution_count": 2,
     "metadata": {},
     "output_type": "execute_result"
    }
   ],
   "source": [
    "sms = pd.read_csv('tb_sms_201202.txt',sep='\\t',header=None)\n",
    "sms.head()"
   ]
  },
  {
   "cell_type": "code",
   "execution_count": 3,
   "metadata": {
    "collapsed": false
   },
   "outputs": [
    {
     "data": {
      "text/html": [
       "<div>\n",
       "<table border=\"1\" class=\"dataframe\">\n",
       "  <thead>\n",
       "    <tr style=\"text-align: right;\">\n",
       "      <th></th>\n",
       "      <th>date</th>\n",
       "      <th>node1</th>\n",
       "      <th>node2</th>\n",
       "      <th>sender_label</th>\n",
       "      <th>receive_label</th>\n",
       "      <th>time</th>\n",
       "    </tr>\n",
       "  </thead>\n",
       "  <tbody>\n",
       "    <tr>\n",
       "      <th>0</th>\n",
       "      <td>20120201</td>\n",
       "      <td>559008</td>\n",
       "      <td>y25562542202</td>\n",
       "      <td>1</td>\n",
       "      <td>2</td>\n",
       "      <td>00:09:20</td>\n",
       "    </tr>\n",
       "    <tr>\n",
       "      <th>1</th>\n",
       "      <td>20120201</td>\n",
       "      <td>559008</td>\n",
       "      <td>y25562542202</td>\n",
       "      <td>1</td>\n",
       "      <td>2</td>\n",
       "      <td>00:26:33</td>\n",
       "    </tr>\n",
       "    <tr>\n",
       "      <th>2</th>\n",
       "      <td>20120201</td>\n",
       "      <td>559008</td>\n",
       "      <td>y25562542202</td>\n",
       "      <td>1</td>\n",
       "      <td>2</td>\n",
       "      <td>00:24:30</td>\n",
       "    </tr>\n",
       "    <tr>\n",
       "      <th>3</th>\n",
       "      <td>20120201</td>\n",
       "      <td>875512</td>\n",
       "      <td>1196004</td>\n",
       "      <td>1</td>\n",
       "      <td>1</td>\n",
       "      <td>00:02:35</td>\n",
       "    </tr>\n",
       "    <tr>\n",
       "      <th>4</th>\n",
       "      <td>20120201</td>\n",
       "      <td>559008</td>\n",
       "      <td>y25562542202</td>\n",
       "      <td>1</td>\n",
       "      <td>2</td>\n",
       "      <td>00:13:35</td>\n",
       "    </tr>\n",
       "  </tbody>\n",
       "</table>\n",
       "</div>"
      ],
      "text/plain": [
       "       date   node1         node2  sender_label  receive_label      time\n",
       "0  20120201  559008  y25562542202             1              2  00:09:20\n",
       "1  20120201  559008  y25562542202             1              2  00:26:33\n",
       "2  20120201  559008  y25562542202             1              2  00:24:30\n",
       "3  20120201  875512       1196004             1              1  00:02:35\n",
       "4  20120201  559008  y25562542202             1              2  00:13:35"
      ]
     },
     "execution_count": 3,
     "metadata": {},
     "output_type": "execute_result"
    }
   ],
   "source": [
    "sms.columns=['date','node1','node2','sender_label','receive_label','time']\n",
    "sms.head()"
   ]
  },
  {
   "cell_type": "code",
   "execution_count": 4,
   "metadata": {
    "collapsed": false
   },
   "outputs": [],
   "source": [
    "sms1 = sms[(sms.sender_label==1)&(sms.receive_label==1)]\n",
    "sms2 = sms[(sms.sender_label==2)&(sms.receive_label==2)]"
   ]
  },
  {
   "cell_type": "code",
   "execution_count": 5,
   "metadata": {
    "collapsed": false
   },
   "outputs": [
    {
     "name": "stdout",
     "output_type": "stream",
     "text": [
      "sms (20947956, 6)\n",
      "sms1 (2661022, 6)\n",
      "sms2 (0, 6)\n"
     ]
    }
   ],
   "source": [
    "print 'sms',sms.shape\n",
    "print 'sms1',sms1.shape\n",
    "print 'sms2',sms2.shape"
   ]
  },
  {
   "cell_type": "markdown",
   "metadata": {},
   "source": [
    "都是1的信息量有2661022，占全量的1/10"
   ]
  },
  {
   "cell_type": "code",
   "execution_count": 6,
   "metadata": {
    "collapsed": false
   },
   "outputs": [
    {
     "name": "stdout",
     "output_type": "stream",
     "text": [
      "<class 'pandas.core.frame.DataFrame'>\n",
      "Int64Index: 2661022 entries, 3 to 20649578\n",
      "Data columns (total 6 columns):\n",
      "date             int64\n",
      "node1            int64\n",
      "node2            object\n",
      "sender_label     int64\n",
      "receive_label    int64\n",
      "time             object\n",
      "dtypes: int64(4), object(2)\n",
      "memory usage: 142.1+ MB\n"
     ]
    }
   ],
   "source": [
    "sms1.info()"
   ]
  },
  {
   "cell_type": "code",
   "execution_count": 7,
   "metadata": {
    "collapsed": false
   },
   "outputs": [
    {
     "name": "stderr",
     "output_type": "stream",
     "text": [
      "/root/anaconda2/lib/python2.7/site-packages/ipykernel/__main__.py:3: SettingWithCopyWarning: \n",
      "A value is trying to be set on a copy of a slice from a DataFrame.\n",
      "Try using .loc[row_indexer,col_indexer] = value instead\n",
      "\n",
      "See the caveats in the documentation: http://pandas.pydata.org/pandas-docs/stable/indexing.html#indexing-view-versus-copy\n",
      "  app.launch_new_instance()\n"
     ]
    },
    {
     "data": {
      "text/html": [
       "<div>\n",
       "<table border=\"1\" class=\"dataframe\">\n",
       "  <thead>\n",
       "    <tr style=\"text-align: right;\">\n",
       "      <th></th>\n",
       "      <th>date</th>\n",
       "      <th>node1</th>\n",
       "      <th>node2</th>\n",
       "      <th>sender_label</th>\n",
       "      <th>receive_label</th>\n",
       "      <th>time</th>\n",
       "      <th>timestamp</th>\n",
       "    </tr>\n",
       "  </thead>\n",
       "  <tbody>\n",
       "    <tr>\n",
       "      <th>3</th>\n",
       "      <td>20120201</td>\n",
       "      <td>875512</td>\n",
       "      <td>1196004</td>\n",
       "      <td>1</td>\n",
       "      <td>1</td>\n",
       "      <td>00:02:35</td>\n",
       "      <td>1.328026e+09</td>\n",
       "    </tr>\n",
       "    <tr>\n",
       "      <th>6</th>\n",
       "      <td>20120201</td>\n",
       "      <td>849684</td>\n",
       "      <td>1168666</td>\n",
       "      <td>1</td>\n",
       "      <td>1</td>\n",
       "      <td>00:33:40</td>\n",
       "      <td>1.328028e+09</td>\n",
       "    </tr>\n",
       "    <tr>\n",
       "      <th>16</th>\n",
       "      <td>20120201</td>\n",
       "      <td>847122</td>\n",
       "      <td>1186533</td>\n",
       "      <td>1</td>\n",
       "      <td>1</td>\n",
       "      <td>05:40:23</td>\n",
       "      <td>1.328046e+09</td>\n",
       "    </tr>\n",
       "    <tr>\n",
       "      <th>28</th>\n",
       "      <td>20120201</td>\n",
       "      <td>1074048</td>\n",
       "      <td>376628</td>\n",
       "      <td>1</td>\n",
       "      <td>1</td>\n",
       "      <td>00:38:03</td>\n",
       "      <td>1.328028e+09</td>\n",
       "    </tr>\n",
       "    <tr>\n",
       "      <th>29</th>\n",
       "      <td>20120201</td>\n",
       "      <td>1074048</td>\n",
       "      <td>376628</td>\n",
       "      <td>1</td>\n",
       "      <td>1</td>\n",
       "      <td>01:09:00</td>\n",
       "      <td>1.328030e+09</td>\n",
       "    </tr>\n",
       "  </tbody>\n",
       "</table>\n",
       "</div>"
      ],
      "text/plain": [
       "        date    node1    node2  sender_label  receive_label      time  \\\n",
       "3   20120201   875512  1196004             1              1  00:02:35   \n",
       "6   20120201   849684  1168666             1              1  00:33:40   \n",
       "16  20120201   847122  1186533             1              1  05:40:23   \n",
       "28  20120201  1074048   376628             1              1  00:38:03   \n",
       "29  20120201  1074048   376628             1              1  01:09:00   \n",
       "\n",
       "       timestamp  \n",
       "3   1.328026e+09  \n",
       "6   1.328028e+09  \n",
       "16  1.328046e+09  \n",
       "28  1.328028e+09  \n",
       "29  1.328030e+09  "
      ]
     },
     "execution_count": 7,
     "metadata": {},
     "output_type": "execute_result"
    }
   ],
   "source": [
    "# 时间转为时间戳\n",
    "a = sms1.date.astype('str')+' '+sms1.time.astype('str')\n",
    "sms1['timestamp'] = a.map(lambda e:time.mktime(time.strptime(e,'%Y%m%d %H:%M:%S')))\n",
    "sms1.head()\n",
    "    "
   ]
  },
  {
   "cell_type": "code",
   "execution_count": 8,
   "metadata": {
    "collapsed": false
   },
   "outputs": [
    {
     "name": "stdout",
     "output_type": "stream",
     "text": [
      "<class 'pandas.core.frame.DataFrame'>\n",
      "Int64Index: 2661022 entries, 3 to 20649578\n",
      "Data columns (total 7 columns):\n",
      "date             int64\n",
      "node1            int64\n",
      "node2            object\n",
      "sender_label     int64\n",
      "receive_label    int64\n",
      "time             object\n",
      "timestamp        float64\n",
      "dtypes: float64(1), int64(4), object(2)\n",
      "memory usage: 162.4+ MB\n"
     ]
    }
   ],
   "source": [
    "sms1.info()"
   ]
  },
  {
   "cell_type": "code",
   "execution_count": 12,
   "metadata": {
    "collapsed": false
   },
   "outputs": [
    {
     "name": "stdout",
     "output_type": "stream",
     "text": [
      "<class 'pandas.core.frame.DataFrame'>\n",
      "Int64Index: 2661022 entries, 3 to 20649578\n",
      "Data columns (total 7 columns):\n",
      "date             int64\n",
      "node1            int64\n",
      "node2            int64\n",
      "sender_label     int64\n",
      "receive_label    int64\n",
      "time             object\n",
      "timestamp        float64\n",
      "dtypes: float64(1), int64(5), object(1)\n",
      "memory usage: 162.4+ MB\n"
     ]
    }
   ],
   "source": [
    "sms1.node2 = sms1.node2.apply(lambda x: re.sub('^g-|^g','',str(x))).astype(int)\n",
    "sms1.info()"
   ]
  },
  {
   "cell_type": "code",
   "execution_count": 13,
   "metadata": {
    "collapsed": true
   },
   "outputs": [],
   "source": [
    "# 导出数据\n",
    "sms1[['node1','node2','timestamp']].to_csv('sms1.txt',index=None,sep=' ',header=None)"
   ]
  }
 ],
 "metadata": {
  "kernelspec": {
   "display_name": "Python 2",
   "language": "python",
   "name": "python2"
  },
  "language_info": {
   "codemirror_mode": {
    "name": "ipython",
    "version": 2
   },
   "file_extension": ".py",
   "mimetype": "text/x-python",
   "name": "python",
   "nbconvert_exporter": "python",
   "pygments_lexer": "ipython2",
   "version": "2.7.13"
  }
 },
 "nbformat": 4,
 "nbformat_minor": 2
}
