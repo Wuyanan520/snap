{
 "cells": [
  {
   "cell_type": "code",
   "execution_count": 3,
   "metadata": {
    "collapsed": true
   },
   "outputs": [],
   "source": [
    "%matplotlib inline\n",
    "import pandas as pd\n",
    "import matplotlib.pyplot as plt\n",
    "import networkx as nx\n",
    "import datetime"
   ]
  },
  {
   "cell_type": "code",
   "execution_count": 4,
   "metadata": {
    "collapsed": false
   },
   "outputs": [
    {
     "data": {
      "text/html": [
       "<div>\n",
       "<table border=\"1\" class=\"dataframe\">\n",
       "  <thead>\n",
       "    <tr style=\"text-align: right;\">\n",
       "      <th></th>\n",
       "      <th>n1</th>\n",
       "      <th>n2</th>\n",
       "      <th>timestamp</th>\n",
       "      <th>date</th>\n",
       "    </tr>\n",
       "  </thead>\n",
       "  <tbody>\n",
       "    <tr>\n",
       "      <th>0</th>\n",
       "      <td>454</td>\n",
       "      <td>640</td>\n",
       "      <td>1385982020</td>\n",
       "      <td>2013-12-02 11:00:20</td>\n",
       "    </tr>\n",
       "    <tr>\n",
       "      <th>1</th>\n",
       "      <td>1</td>\n",
       "      <td>939</td>\n",
       "      <td>1385982020</td>\n",
       "      <td>2013-12-02 11:00:20</td>\n",
       "    </tr>\n",
       "    <tr>\n",
       "      <th>2</th>\n",
       "      <td>185</td>\n",
       "      <td>258</td>\n",
       "      <td>1385982020</td>\n",
       "      <td>2013-12-02 11:00:20</td>\n",
       "    </tr>\n",
       "    <tr>\n",
       "      <th>3</th>\n",
       "      <td>55</td>\n",
       "      <td>170</td>\n",
       "      <td>1385982020</td>\n",
       "      <td>2013-12-02 11:00:20</td>\n",
       "    </tr>\n",
       "    <tr>\n",
       "      <th>4</th>\n",
       "      <td>9</td>\n",
       "      <td>453</td>\n",
       "      <td>1385982020</td>\n",
       "      <td>2013-12-02 11:00:20</td>\n",
       "    </tr>\n",
       "  </tbody>\n",
       "</table>\n",
       "</div>"
      ],
      "text/plain": [
       "    n1   n2   timestamp                date\n",
       "0  454  640  1385982020 2013-12-02 11:00:20\n",
       "1    1  939  1385982020 2013-12-02 11:00:20\n",
       "2  185  258  1385982020 2013-12-02 11:00:20\n",
       "3   55  170  1385982020 2013-12-02 11:00:20\n",
       "4    9  453  1385982020 2013-12-02 11:00:20"
      ]
     },
     "execution_count": 4,
     "metadata": {},
     "output_type": "execute_result"
    }
   ],
   "source": [
    "data = pd.read_csv('./data/High-School_data.txt',header=None,sep=' ')\n",
    "data.columns = ['n1', 'n2', 'timestamp']\n",
    "data['date'] = data.timestamp.apply(lambda x :datetime.datetime.utcfromtimestamp(x))\n",
    "data.head()"
   ]
  },
  {
   "cell_type": "code",
   "execution_count": 14,
   "metadata": {
    "collapsed": false
   },
   "outputs": [],
   "source": [
    "data1 = data[data.date.dt.date == datetime.date(2013, 12, 6)]\n",
    "data1[['n1', 'n2', 'timestamp']].to_csv('./data/20131206.txt',header=None,sep=' ',index=None)"
   ]
  },
  {
   "cell_type": "code",
   "execution_count": 8,
   "metadata": {
    "collapsed": false
   },
   "outputs": [
    {
     "data": {
      "text/plain": [
       "array([datetime.date(2013, 12, 2), datetime.date(2013, 12, 3),\n",
       "       datetime.date(2013, 12, 4), datetime.date(2013, 12, 5),\n",
       "       datetime.date(2013, 12, 6)], dtype=object)"
      ]
     },
     "execution_count": 8,
     "metadata": {},
     "output_type": "execute_result"
    }
   ],
   "source": [
    "data.date.dt.date.unique()"
   ]
  }
 ],
 "metadata": {
  "kernelspec": {
   "display_name": "Python 2",
   "language": "python",
   "name": "python2"
  },
  "language_info": {
   "codemirror_mode": {
    "name": "ipython",
    "version": 2
   },
   "file_extension": ".py",
   "mimetype": "text/x-python",
   "name": "python",
   "nbconvert_exporter": "python",
   "pygments_lexer": "ipython2",
   "version": "2.7.13"
  }
 },
 "nbformat": 4,
 "nbformat_minor": 2
}
