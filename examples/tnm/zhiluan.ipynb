{
 "cells": [
  {
   "cell_type": "code",
   "execution_count": 1,
   "metadata": {
    "collapsed": true
   },
   "outputs": [],
   "source": [
    "%matplotlib inline\n",
    "import pandas as pd\n",
    "import matplotlib.pyplot as plt\n",
    "import networkx as nx\n",
    "import datetime\n",
    "from tnm import *"
   ]
  },
  {
   "cell_type": "code",
   "execution_count": 2,
   "metadata": {
    "collapsed": true
   },
   "outputs": [],
   "source": [
    "commf = './data/20131202'"
   ]
  },
  {
   "cell_type": "code",
   "execution_count": 3,
   "metadata": {
    "collapsed": false
   },
   "outputs": [],
   "source": [
    "data = pd.read_csv(commf+'.txt',header=None,sep=' ')\n",
    "data.columns = ['n1', 'n2', 'timestamp']\n",
    "maxs=data.timestamp.max()\n",
    "mins=data.timestamp.min()\n",
    "M = nx.from_pandas_dataframe(data,'n1','n2',edge_attr='timestamp', create_using=nx.MultiGraph())"
   ]
  },
  {
   "cell_type": "code",
   "execution_count": 4,
   "metadata": {
    "collapsed": false
   },
   "outputs": [
    {
     "name": "stdout",
     "output_type": "stream",
     "text": [
      "57560 5756000\n"
     ]
    }
   ],
   "source": [
    "nswap = 2 * len(M.edges())\n",
    "maxtry = 100 * nswap\n",
    "print nswap,maxtry"
   ]
  },
  {
   "cell_type": "code",
   "execution_count": 5,
   "metadata": {
    "collapsed": false
   },
   "outputs": [],
   "source": [
    "# 0k断边重连\n",
    "M0k = edges_swap_0k(M, nswap=nswap, max_tries=maxtry)\n",
    "nx.write_edgelist(M0k, commf+'_0k.txt',data=['timestamp'])"
   ]
  },
  {
   "cell_type": "code",
   "execution_count": 6,
   "metadata": {
    "collapsed": true
   },
   "outputs": [],
   "source": [
    "# 1k断边重连\n",
    "M1k = edges_swap_1k(M, nswap=nswap, max_tries=maxtry)\n",
    "nx.write_edgelist(M1k, commf+'_1k.txt',data=['timestamp'])"
   ]
  },
  {
   "cell_type": "code",
   "execution_count": 7,
   "metadata": {
    "collapsed": false
   },
   "outputs": [],
   "source": [
    "# 时间置乱\n",
    "M_time_swap = time_swap(M, nswap=nswap, max_tries=maxtry)\n",
    "nx.write_edgelist(M_time_swap, commf+'_time_swap.txt',data=['timestamp'])"
   ]
  },
  {
   "cell_type": "code",
   "execution_count": 8,
   "metadata": {
    "collapsed": false
   },
   "outputs": [],
   "source": [
    "# 时间随机化\n",
    "M_time_randomcreat = time_random(M, nswap=nswap, max_tries=maxtry,mins=mins,maxs=maxs)\n",
    "nx.write_edgelist(M_time_randomcreat, commf+'_time_randomcreat.txt',data=['timestamp'])"
   ]
  },
  {
   "cell_type": "code",
   "execution_count": 9,
   "metadata": {
    "collapsed": false
   },
   "outputs": [],
   "source": [
    "# 时权置乱\n",
    "M_timeweight_swap = timeweight_swap(M, nswap=nswap, max_tries=maxtry)\n",
    "nx.write_edgelist(M_timeweight_swap, commf+'_timeweight_swap.txt',data=['timestamp'])"
   ]
  },
  {
   "cell_type": "code",
   "execution_count": 10,
   "metadata": {
    "collapsed": true
   },
   "outputs": [],
   "source": [
    "# 等时权置乱\n",
    "M_sametimeweight_swap = sametimeweight_swap(M, nswap=nswap, max_tries=maxtry)\n",
    "nx.write_edgelist(M_sametimeweight_swap, commf+'_sametimeweight_swap.txt',data=['timestamp'])"
   ]
  },
  {
   "cell_type": "code",
   "execution_count": 11,
   "metadata": {
    "collapsed": true
   },
   "outputs": [],
   "source": [
    "# 接触置乱\n",
    "M_time_randomswap = time_randomswap(M, nswap=nswap, max_tries=maxtry)\n",
    "nx.write_edgelist(M_time_randomswap, commf+'_time_randomswap.txt',data=['timestamp'])"
   ]
  },
  {
   "cell_type": "code",
   "execution_count": 12,
   "metadata": {
    "collapsed": true
   },
   "outputs": [],
   "source": [
    "# 保持个体天、周、月模式\n",
    "M_SameMode_day = time_SameMode_swap(M, nswap=nswap, max_tries=maxtry,mode='day')\n",
    "nx.write_edgelist(M_SameMode_day, commf+'_SameMode_day.txt',data=['timestamp'])"
   ]
  },
  {
   "cell_type": "code",
   "execution_count": 13,
   "metadata": {
    "collapsed": true
   },
   "outputs": [],
   "source": [
    "# 保持个体天、周、月模式\n",
    "M_SameMode_Week = time_SameMode_swap(M, nswap=nswap, max_tries=maxtry,mode='week')\n",
    "nx.write_edgelist(M_SameMode_Week, commf+'_SameMode_week.txt',data=['timestamp'])"
   ]
  },
  {
   "cell_type": "code",
   "execution_count": 14,
   "metadata": {
    "collapsed": true
   },
   "outputs": [],
   "source": [
    "# 保持个体天、周、月模式\n",
    "M_SameMode_month = time_SameMode_swap(M, nswap=nswap, max_tries=maxtry,mode='month')\n",
    "nx.write_edgelist(M_SameMode_month, commf+'_SameMode_month.txt',data=['timestamp'])"
   ]
  },
  {
   "cell_type": "code",
   "execution_count": 15,
   "metadata": {
    "collapsed": false
   },
   "outputs": [],
   "source": [
    "# 时间倒转\n",
    "G0 = nx.from_pandas_dataframe(time_reverse(data),'n1','n2',\n",
    "                                   edge_attr='timestamp', create_using=nx.MultiGraph())\n",
    "nx.write_edgelist(G0, commf+'_time_reverse.txt',data=['timestamp'])"
   ]
  }
 ],
 "metadata": {
  "kernelspec": {
   "display_name": "Python 2",
   "language": "python",
   "name": "python2"
  },
  "language_info": {
   "codemirror_mode": {
    "name": "ipython",
    "version": 2
   },
   "file_extension": ".py",
   "mimetype": "text/x-python",
   "name": "python",
   "nbconvert_exporter": "python",
   "pygments_lexer": "ipython2",
   "version": "2.7.13"
  }
 },
 "nbformat": 4,
 "nbformat_minor": 2
}
